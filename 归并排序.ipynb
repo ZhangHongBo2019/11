{
 "cells": [
  {
   "cell_type": "markdown",
   "metadata": {},
   "source": [
    "## 归并排序"
   ]
  },
  {
   "cell_type": "raw",
   "metadata": {},
   "source": [
    "归并排序（Merge_Sort）是建立在归并操作上的一种有序的排序算法。该算法是采用分治法的一个典型应用。将已有序的子序列合并，得到完全有序的序列。"
   ]
  },
  {
   "cell_type": "code",
   "execution_count": 13,
   "metadata": {},
   "outputs": [],
   "source": [
    "def Merge_Sort(alist):\n",
    "    n = len(alist)\n",
    "    if n<=1:\n",
    "        return alist\n",
    "    mid_index = n//2\n",
    "    left_list = Merge_Sort(alist[:mid_index])\n",
    "    right_list = Merge_Sort(alist[mid_index:])\n",
    "    left_index = 0;right_index = 0\n",
    "    result = []\n",
    "    while right_index<len(right_list) and left_index<len(left_list):\n",
    "        if left_list[left_index] >= right_list[right_index]:\n",
    "            result.append(right_list[right_index])\n",
    "            right_index+=1\n",
    "        else:\n",
    "            result.append(left_list[left_index])\n",
    "            left_index+=1\n",
    "    result+=left_list[left_index:]\n",
    "    result+=right_list[right_index:]\n",
    "    return result"
   ]
  },
  {
   "cell_type": "code",
   "execution_count": 15,
   "metadata": {},
   "outputs": [
    {
     "name": "stdout",
     "output_type": "stream",
     "text": [
      "[9, 8, 7, 6, 5, 4, 3, 2, 1, 9, 8, 7, 6, 5, 4, 3, 2, 1]\n",
      "[1, 1, 2, 2, 3, 3, 4, 4, 5, 5, 6, 6, 7, 7, 8, 8, 9, 9]\n"
     ]
    }
   ],
   "source": [
    "if __name__ == \"__main__\":\n",
    "    alist = [9,8,7,6,5,4,3,2,1,9,8,7,6,5,4,3,2,1]\n",
    "    print(alist)\n",
    "    sort_list = Merge_Sort(alist)\n",
    "    print(sort_list)"
   ]
  },
  {
   "cell_type": "code",
   "execution_count": null,
   "metadata": {},
   "outputs": [],
   "source": []
  }
 ],
 "metadata": {
  "kernelspec": {
   "display_name": "Python 3",
   "language": "python",
   "name": "python3"
  },
  "language_info": {
   "codemirror_mode": {
    "name": "ipython",
    "version": 3
   },
   "file_extension": ".py",
   "mimetype": "text/x-python",
   "name": "python",
   "nbconvert_exporter": "python",
   "pygments_lexer": "ipython3",
   "version": "3.7.3"
  }
 },
 "nbformat": 4,
 "nbformat_minor": 2
}
