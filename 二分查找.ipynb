{
 "cells": [
  {
   "cell_type": "code",
   "execution_count": 18,
   "metadata": {},
   "outputs": [],
   "source": [
    "def binary_search(alist,item):\n",
    "    n = len(alist)\n",
    "    if n > 0:\n",
    "        mid = n//2\n",
    "        if alist[mid] == item:\n",
    "            return True\n",
    "        elif alist[mid]> item:\n",
    "            return binary_search(alist[:mid],item)\n",
    "        else:\n",
    "            return binary_search(alist[mid+1:],item)\n",
    "    return False"
   ]
  },
  {
   "cell_type": "code",
   "execution_count": 19,
   "metadata": {},
   "outputs": [
    {
     "name": "stdout",
     "output_type": "stream",
     "text": [
      "True\n",
      "False\n"
     ]
    }
   ],
   "source": [
    "if __name__ == \"__main__\":\n",
    "    alist = [1,2,3,4,5,6,7,8]\n",
    "    print(binary_search(alist,8))\n",
    "    print(binary_search(alist,100))"
   ]
  },
  {
   "cell_type": "code",
   "execution_count": null,
   "metadata": {},
   "outputs": [],
   "source": []
  }
 ],
 "metadata": {
  "kernelspec": {
   "display_name": "Python 3",
   "language": "python",
   "name": "python3"
  },
  "language_info": {
   "codemirror_mode": {
    "name": "ipython",
    "version": 3
   },
   "file_extension": ".py",
   "mimetype": "text/x-python",
   "name": "python",
   "nbconvert_exporter": "python",
   "pygments_lexer": "ipython3",
   "version": "3.7.3"
  }
 },
 "nbformat": 4,
 "nbformat_minor": 2
}
