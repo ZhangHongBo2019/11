{
 "cells": [
  {
   "cell_type": "markdown",
   "metadata": {},
   "source": [
    "## 插入排序"
   ]
  },
  {
   "cell_type": "code",
   "execution_count": 1,
   "metadata": {},
   "outputs": [],
   "source": [
    "def insert_sort_1(alist):\n",
    "    n = len(alist)\n",
    "    for k in range(1,n):\n",
    "        for i in range(k,0,-1):\n",
    "            if alist[i-1]>alist[i]:\n",
    "                alist[i],alist[i-1] = alist[i-1],alist[i]\n",
    "            else:\n",
    "                break\n",
    "\n",
    "def insert_sort_2(alist):\n",
    "    n = len(alist)\n",
    "    for i in range(1,n):\n",
    "        j = i\n",
    "        while j!=0:\n",
    "            if alist[j]<alist[j-1]:\n",
    "                alist[j-1],alist[j] = alist[j],alist[j-1]\n",
    "                j-=1\n",
    "            else:\n",
    "                break"
   ]
  },
  {
   "cell_type": "code",
   "execution_count": 2,
   "metadata": {},
   "outputs": [
    {
     "name": "stdout",
     "output_type": "stream",
     "text": [
      "[9, 8, 7, 6, 5, 4, 3, 2, 1, 9, 7, 3, 2]\n",
      "[1, 2, 2, 3, 3, 4, 5, 6, 7, 7, 8, 9, 9]\n"
     ]
    }
   ],
   "source": [
    "if __name__ == \"__main__\":\n",
    "    alist = [9,8,7,6,5,4,3,2,1,9,7,3,2]\n",
    "    print(alist)\n",
    "    insert_sort_1(alist)\n",
    "    print(alist)"
   ]
  },
  {
   "cell_type": "code",
   "execution_count": null,
   "metadata": {},
   "outputs": [],
   "source": []
  }
 ],
 "metadata": {
  "kernelspec": {
   "display_name": "Python 3",
   "language": "python",
   "name": "python3"
  },
  "language_info": {
   "codemirror_mode": {
    "name": "ipython",
    "version": 3
   },
   "file_extension": ".py",
   "mimetype": "text/x-python",
   "name": "python",
   "nbconvert_exporter": "python",
   "pygments_lexer": "ipython3",
   "version": "3.7.3"
  }
 },
 "nbformat": 4,
 "nbformat_minor": 2
}
