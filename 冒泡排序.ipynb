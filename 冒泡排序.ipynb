{
 "cells": [
  {
   "cell_type": "markdown",
   "metadata": {},
   "source": [
    "# 冒泡排序（Bubble Sort）\n",
    "### 定义：这是一种简单的排序算法，它重复的遍历排序的数列。一次比较两个元素，如果排序错误，就将它们交换过来，遍历数列的工作是重复的进行直到没有交换。这个算法名字的由来是因为越小的元素会经过交换慢慢浮到数列的前端。\n",
    "### 流程：1.比较相邻的两个元素，如果第一个比第二个大（升序），则交换它们\n",
    "###            2.对每一对相邻的元素做同样的工作，从开始第一对到结尾最后一对，第一次遍历完###               成后，最大的元素会在数列的最后\n",
    "###            3.针对所有的元素，重复以上步骤，除了最后一个\n",
    "###            4.持续对越来越少的元素重复以上的操作，直到没有任何一对元素需要比较为止"
   ]
  },
  {
   "cell_type": "code",
   "execution_count": 50,
   "metadata": {},
   "outputs": [],
   "source": [
    "def BubbleSort(nd):\n",
    "    n = len(nd)\n",
    "    for k in range(1,n):\n",
    "        count = 0\n",
    "        for i in range(n-k):\n",
    "            if nd[i]>nd[i+1]:\n",
    "                nd[i+1],nd[i] = nd[i],nd[i+1]\n",
    "                count+=1\n",
    "        if count==0:\n",
    "            break"
   ]
  },
  {
   "cell_type": "code",
   "execution_count": 51,
   "metadata": {},
   "outputs": [
    {
     "name": "stdout",
     "output_type": "stream",
     "text": [
      "[9, 4, 8, 3, 9, 2, 0, 2, 4, 1, 6]\n",
      "[0, 1, 2, 2, 3, 4, 4, 6, 8, 9, 9]\n"
     ]
    }
   ],
   "source": [
    "if __name__ == \"__main__\":\n",
    "    nd = [9,4,8,3,9,2,0,2,4,1,6]\n",
    "    print(nd)\n",
    "    BubbleSort(nd)\n",
    "    print(nd)"
   ]
  },
  {
   "cell_type": "code",
   "execution_count": null,
   "metadata": {},
   "outputs": [],
   "source": []
  }
 ],
 "metadata": {
  "kernelspec": {
   "display_name": "Python 3",
   "language": "python",
   "name": "python3"
  },
  "language_info": {
   "codemirror_mode": {
    "name": "ipython",
    "version": 3
   },
   "file_extension": ".py",
   "mimetype": "text/x-python",
   "name": "python",
   "nbconvert_exporter": "python",
   "pygments_lexer": "ipython3",
   "version": "3.7.3"
  }
 },
 "nbformat": 4,
 "nbformat_minor": 2
}
