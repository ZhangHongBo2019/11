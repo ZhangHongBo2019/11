{
 "cells": [
  {
   "cell_type": "markdown",
   "metadata": {},
   "source": [
    "## 选择排序（Selection Sort） \n",
    "### 选择排序是一种简单直观的排序算法。它的工作原理如下：\n",
    "### 首先在未排序的序列中找到最大（或最小）的元素，将这个元素与起始位置的元素进行交换。然后再从剩下的未排序的序列中找到最大（或最小）元素，与前面的对应位置的元素进行交换，以此内推，直到所有的元素排序完毕。\n",
    "### 选择排序的主要优点是与数据移动有关，如果某个元素位于正确的最终位置，则它不会移动。选择排序每次交换一对元素，它们当中至少有一个被正确的移动了位置。对n个元素的列表至多进行n-1次交换。"
   ]
  },
  {
   "cell_type": "code",
   "execution_count": 13,
   "metadata": {},
   "outputs": [],
   "source": [
    "def SelectSort(alist):\n",
    "    n= len(alist)\n",
    "    for i in range(n-1):\n",
    "        min_index = i\n",
    "        for j in range(i+1,n):\n",
    "            if alist[min_index] > alist[j]:\n",
    "                min_index = j\n",
    "        alist[min_index],alist[i] = alist[i],alist[min_index]"
   ]
  },
  {
   "cell_type": "code",
   "execution_count": 14,
   "metadata": {},
   "outputs": [
    {
     "name": "stdout",
     "output_type": "stream",
     "text": [
      "[1, 2, 3, 4, 5, 6, 7, 8, 9]\n",
      "[1, 2, 3, 4, 5, 6, 7, 8, 9]\n"
     ]
    }
   ],
   "source": [
    "if __name__ == \"__main__\":\n",
    "    alist = [1,2,3,4,5,6,7,8,9]\n",
    "    print(alist)\n",
    "    SelectSort(alist)\n",
    "    print(alist)"
   ]
  },
  {
   "cell_type": "code",
   "execution_count": null,
   "metadata": {},
   "outputs": [],
   "source": []
  }
 ],
 "metadata": {
  "kernelspec": {
   "display_name": "Python 3",
   "language": "python",
   "name": "python3"
  },
  "language_info": {
   "codemirror_mode": {
    "name": "ipython",
    "version": 3
   },
   "file_extension": ".py",
   "mimetype": "text/x-python",
   "name": "python",
   "nbconvert_exporter": "python",
   "pygments_lexer": "ipython3",
   "version": "3.7.3"
  }
 },
 "nbformat": 4,
 "nbformat_minor": 2
}
