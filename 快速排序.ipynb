{
 "cells": [
  {
   "cell_type": "markdown",
   "metadata": {},
   "source": [
    "## 快速排序"
   ]
  },
  {
   "cell_type": "raw",
   "metadata": {},
   "source": [
    "快速排序（QuickSort）的本质是把基准数大的放在基准数的右边，基准数小的放在基准数的左边，这样就找到了该数据元素在数组中的正确位置。\n",
    "基本过程：1、先从数列中取出一个数作为基准数\n",
    "       2、分区过程：将比基准数大的元素放在基准数的右边，比基准数小的数放在基准数的左边\n",
    "       3、再对左右区间重复进行第二步，直到各区间只有一个数为止\n",
    "概括来说：挖坑填数 + 分治法"
   ]
  },
  {
   "cell_type": "code",
   "execution_count": 5,
   "metadata": {},
   "outputs": [],
   "source": [
    "def partion(alist,low,high):\n",
    "    mid_value = alist[low]\n",
    "    while low < high:\n",
    "        while low < high and alist[high] >= mid_value:\n",
    "            high -=1\n",
    "        if low < high:\n",
    "            alist[low] = alist[high]\n",
    "        \n",
    "        while low < high and alist[low] < mid_value:\n",
    "            low +=1\n",
    "        if low < high:\n",
    "            alist[high] = alist[low]\n",
    "    alist[low] = mid_value\n",
    "    return low\n",
    "\n",
    "def Quick_Sort(alist,low,high):\n",
    "    if low < high:\n",
    "        mid_index = partion(alist,low,high)\n",
    "        Quick_Sort(alist,low,mid_index-1)\n",
    "        Quick_Sort(alist,mid_index+1,high)"
   ]
  },
  {
   "cell_type": "code",
   "execution_count": 7,
   "metadata": {},
   "outputs": [
    {
     "name": "stdout",
     "output_type": "stream",
     "text": [
      "[9, 8, 7, 6, 5, 4, 3, 2, 1, 1, 2, 3, 4, 5, 6, 7, 8, 9]\n",
      "[1, 1, 2, 2, 3, 3, 4, 4, 5, 5, 6, 6, 7, 7, 8, 8, 9, 9]\n"
     ]
    }
   ],
   "source": [
    "if __name__ == \"__main__\":\n",
    "    alist = [9,8,7,6,5,4,3,2,1,1,2,3,4,5,6,7,8,9]\n",
    "    print(alist)\n",
    "    Quick_Sort(alist,0,17)\n",
    "    print(alist)"
   ]
  },
  {
   "cell_type": "code",
   "execution_count": null,
   "metadata": {},
   "outputs": [],
   "source": []
  }
 ],
 "metadata": {
  "kernelspec": {
   "display_name": "Python 3",
   "language": "python",
   "name": "python3"
  },
  "language_info": {
   "codemirror_mode": {
    "name": "ipython",
    "version": 3
   },
   "file_extension": ".py",
   "mimetype": "text/x-python",
   "name": "python",
   "nbconvert_exporter": "python",
   "pygments_lexer": "ipython3",
   "version": "3.7.3"
  }
 },
 "nbformat": 4,
 "nbformat_minor": 2
}
