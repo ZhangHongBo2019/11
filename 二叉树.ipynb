{
 "cells": [
  {
   "cell_type": "code",
   "execution_count": 1,
   "metadata": {},
   "outputs": [],
   "source": [
    "class Node(object):\n",
    "    \"\"\"节点类\"\"\"\n",
    "    def __init__(self,item):\n",
    "        self.elem = item\n",
    "        self.lchild = None\n",
    "        self.rchild = None\n",
    "\n",
    "class Tree(object):\n",
    "    \"\"\"二叉树\"\"\"\n",
    "    def __init__(self):\n",
    "        \"\"\"根节点\"\"\"\n",
    "        self.root = None\n",
    "    \n",
    "    def add(self,item):\n",
    "        node = Node(item)\n",
    "        if self.root is None:\n",
    "            self.root = node\n",
    "            return\n",
    "        queue = [self.root]\n",
    "        while queue:\n",
    "            cur_node = queue.pop(0)\n",
    "            if cur_node.lchild is None:\n",
    "                cur_node.lchild = node\n",
    "                return \n",
    "            else:\n",
    "                queue.append(cur_node.lchild)\n",
    "\n",
    "            if cur_node.rchild is None:\n",
    "                cur_node.rchild = node\n",
    "                return \n",
    "            else:\n",
    "                queue.append(cur_node.rchild)\n",
    "    \n",
    "    def breath_travel(self):\n",
    "        \"\"\"广度优先遍历/层次遍历\"\"\"\n",
    "        if self.root is None:\n",
    "            return \n",
    "        queue = [self.root]\n",
    "        while queue:\n",
    "            cur_node = queue.pop(0)\n",
    "            print(cur_node.elem,end = \" \")\n",
    "            if cur_node.lchild is not None:\n",
    "                queue.append(cur_node.lchild)\n",
    "            if cur_node.rchild is not None:\n",
    "                queue.append(cur_node.rchild)   \n",
    "    \n",
    "    def depth_travel_preorder(self,cur_root):\n",
    "        if cur_root is None:\n",
    "            return \n",
    "        print(cur_root.elem,end = \" \")\n",
    "        self.depth_travel_preorder(cur_root.lchild)\n",
    "        self.depth_travel_preorder(cur_root.rchild)\n",
    "    \n",
    "    def depth_travel_midorder(self,cur_root):\n",
    "        if cur_root is None:\n",
    "            return\n",
    "        self.depth_travel_midorder(cur_root.lchild)\n",
    "        print(cur_root.elem,end = \" \")\n",
    "        self.depth_travel_midorder(cur_root.rchild)\n",
    "        \n",
    "    def depth_travel_afteorder(self,cur_root):\n",
    "        if cur_root is None:\n",
    "            return\n",
    "        self.depth_travel_afteorder(cur_root.lchild)\n",
    "        self.depth_travel_afteorder(cur_root.rchild)\n",
    "        print(cur_root.elem,end = \" \")"
   ]
  },
  {
   "cell_type": "code",
   "execution_count": 2,
   "metadata": {},
   "outputs": [
    {
     "name": "stdout",
     "output_type": "stream",
     "text": [
      "0 1 2 3 4 5  \n",
      "0 1 3 4 2 5  \n",
      "3 1 4 0 5 2  \n",
      "3 4 1 5 2 0 "
     ]
    }
   ],
   "source": [
    "if __name__ == \"__main__\":\n",
    "    tree = Tree()\n",
    "    tree.add(0)\n",
    "    tree.add(1)\n",
    "    tree.add(2)\n",
    "    tree.add(3)\n",
    "    tree.add(4)\n",
    "    tree.add(5)\n",
    "    tree.breath_travel()\n",
    "    print(\" \")\n",
    "    tree.depth_travel_preorder(tree.root)\n",
    "    print(\" \")\n",
    "    tree.depth_travel_midorder(tree.root)\n",
    "    print(\" \")\n",
    "    tree.depth_travel_afteorder(tree.root)"
   ]
  },
  {
   "cell_type": "code",
   "execution_count": null,
   "metadata": {},
   "outputs": [],
   "source": []
  }
 ],
 "metadata": {
  "kernelspec": {
   "display_name": "Python 3",
   "language": "python",
   "name": "python3"
  },
  "language_info": {
   "codemirror_mode": {
    "name": "ipython",
    "version": 3
   },
   "file_extension": ".py",
   "mimetype": "text/x-python",
   "name": "python",
   "nbconvert_exporter": "python",
   "pygments_lexer": "ipython3",
   "version": "3.7.3"
  }
 },
 "nbformat": 4,
 "nbformat_minor": 2
}
