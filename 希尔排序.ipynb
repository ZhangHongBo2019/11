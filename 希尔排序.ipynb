{
 "cells": [
  {
   "cell_type": "markdown",
   "metadata": {},
   "source": [
    "## 希尔排序"
   ]
  },
  {
   "cell_type": "raw",
   "metadata": {},
   "source": [
    "希尔排序（shell sort）是插入排序的一种，也称缩小增量排序。是直接插入排序算法的一种更高效的改进版算法。希尔排序是非稳定排序算法，希尔排序是把记录按下标的一定增量分组，对每组直接使用插入排序算法排序；随着增量逐渐减少，每组包含的关键词越来越多，当增量减至1时，整个数列被分为一组。"
   ]
  },
  {
   "cell_type": "code",
   "execution_count": 6,
   "metadata": {},
   "outputs": [],
   "source": [
    "def shell_sort(alist):\n",
    "    n = len(alist)\n",
    "    gap = n//2\n",
    "    while gap >0:\n",
    "        for k in range(gap,n):\n",
    "            i = k\n",
    "            while i >0:\n",
    "                if alist[i]<alist[i-gap]:\n",
    "                    alist[i],alist[i-gap] = alist[i-gap],alist[i]\n",
    "                    i-=gap\n",
    "                else:\n",
    "                    break\n",
    "        gap = gap//2"
   ]
  },
  {
   "cell_type": "code",
   "execution_count": 8,
   "metadata": {},
   "outputs": [
    {
     "name": "stdout",
     "output_type": "stream",
     "text": [
      "[9, 8, 7, 6, 5, 4, 3, 2, 1, 9, 5, 6]\n",
      "[1, 2, 3, 4, 5, 5, 6, 6, 7, 8, 9, 9]\n"
     ]
    }
   ],
   "source": [
    "if __name__ == \"__main__\":\n",
    "    alist = [9,8,7,6,5,4,3,2,1,9,5,6]\n",
    "    print(alist)\n",
    "    shell_sort(alist)\n",
    "    print(alist)"
   ]
  },
  {
   "cell_type": "code",
   "execution_count": null,
   "metadata": {},
   "outputs": [],
   "source": []
  }
 ],
 "metadata": {
  "kernelspec": {
   "display_name": "Python 3",
   "language": "python",
   "name": "python3"
  },
  "language_info": {
   "codemirror_mode": {
    "name": "ipython",
    "version": 3
   },
   "file_extension": ".py",
   "mimetype": "text/x-python",
   "name": "python",
   "nbconvert_exporter": "python",
   "pygments_lexer": "ipython3",
   "version": "3.7.3"
  }
 },
 "nbformat": 4,
 "nbformat_minor": 2
}
